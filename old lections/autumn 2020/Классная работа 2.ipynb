{
 "cells": [
  {
   "cell_type": "markdown",
   "metadata": {},
   "source": [
    "# <center>Тема 2. Углубленные приемы pandas, collections, numpy</center>\n",
    "## <center>Практическое задание. Работа с векторами в библиотеке NumPy</center>"
   ]
  },
  {
   "cell_type": "code",
   "execution_count": 2,
   "metadata": {},
   "outputs": [],
   "source": [
    "import numpy as np\n",
    "import pandas as pd"
   ]
  },
  {
   "cell_type": "markdown",
   "metadata": {},
   "source": [
    "**1. Создайте numpy массив с числами от 100 с шагом в 10, размера 10х5**"
   ]
  },
  {
   "cell_type": "code",
   "execution_count": 19,
   "metadata": {},
   "outputs": [
    {
     "data": {
      "text/plain": [
       "array([[100, 110, 120, 130, 140],\n",
       "       [150, 160, 170, 180, 190],\n",
       "       [200, 210, 220, 230, 240],\n",
       "       [250, 260, 270, 280, 290],\n",
       "       [300, 310, 320, 330, 340],\n",
       "       [350, 360, 370, 380, 390],\n",
       "       [400, 410, 420, 430, 440],\n",
       "       [450, 460, 470, 480, 490],\n",
       "       [500, 510, 520, 530, 540],\n",
       "       [550, 560, 570, 580, 590]])"
      ]
     },
     "execution_count": 19,
     "metadata": {},
     "output_type": "execute_result"
    }
   ],
   "source": [
    "a = np.arange(100, 100 + 10 * 10 * 5, 10)\n",
    "a.shape = (10,5)\n",
    "a"
   ]
  },
  {
   "cell_type": "markdown",
   "metadata": {},
   "source": [
    "**2. Создайте numpy массив с числами от 100 с шагом в 10, размера 10х5 заполеннный змейкой**  \n",
    "---------->  \n",
    "<---------  \n",
    "---------->  "
   ]
  },
  {
   "cell_type": "code",
   "execution_count": 33,
   "metadata": {},
   "outputs": [
    {
     "data": {
      "text/plain": [
       "[array([100, 110, 120, 130, 140]),\n",
       " array([150, 160, 170, 180, 190]),\n",
       " array([200, 210, 220, 230, 240]),\n",
       " array([250, 260, 270, 280, 290]),\n",
       " array([300, 310, 320, 330, 340]),\n",
       " array([350, 360, 370, 380, 390]),\n",
       " array([400, 410, 420, 430, 440]),\n",
       " array([450, 460, 470, 480, 490]),\n",
       " array([500, 510, 520, 530, 540]),\n",
       " array([550, 560, 570, 580, 590])]"
      ]
     },
     "execution_count": 33,
     "metadata": {},
     "output_type": "execute_result"
    }
   ],
   "source": [
    "a = [line if indx%2 == 0 else line[::-1] for indx, line in enumerate(a)]\n",
    "a"
   ]
  },
  {
   "cell_type": "markdown",
   "metadata": {},
   "source": [
    "**3. Вычтите из каждого ряда первого массива соответствующее значение из второго**  \n",
    "Result\n",
    "array([[2, 2, 2],\n",
    "       [2, 2, 2],\n",
    "       [2, 2, 2]])"
   ]
  },
  {
   "cell_type": "code",
   "execution_count": 35,
   "metadata": {},
   "outputs": [],
   "source": [
    "a_2d = np.array([[3,3,3],[4,4,4],[5,5,5]])\n",
    "b_1d = np.array([1,2,3])"
   ]
  },
  {
   "cell_type": "code",
   "execution_count": 39,
   "metadata": {},
   "outputs": [
    {
     "data": {
      "text/plain": [
       "array([[2, 2, 2],\n",
       "       [2, 2, 2],\n",
       "       [2, 2, 2]])"
      ]
     },
     "execution_count": 39,
     "metadata": {},
     "output_type": "execute_result"
    }
   ],
   "source": [
    "b_1d.shape = (3,1)\n",
    "a_2d - b_1d"
   ]
  },
  {
   "cell_type": "markdown",
   "metadata": {},
   "source": [
    "**4. Заменить все положительные числа массива на 1, отрицательные на 0**"
   ]
  },
  {
   "cell_type": "code",
   "execution_count": 3,
   "metadata": {},
   "outputs": [
    {
     "data": {
      "text/plain": [
       "array([[-316, -441,  653, ...,  773,  961, -475],\n",
       "       [-187,  456, -432, ...,  168,  273, -169],\n",
       "       [ 936,  475, -128, ...,  408, -892, -310],\n",
       "       ...,\n",
       "       [-921,  396,  457, ...,  646, -450, -387],\n",
       "       [ 645,  943, -435, ...,  863, -920,  790],\n",
       "       [ 641, -548,  379, ...,  347,  -67, -352]])"
      ]
     },
     "execution_count": 3,
     "metadata": {},
     "output_type": "execute_result"
    }
   ],
   "source": [
    "np.random.seed(0)\n",
    "X = np.random.randint(-1000, 1000, size=(3000,3000))"
   ]
  },
  {
   "cell_type": "code",
   "execution_count": 6,
   "metadata": {},
   "outputs": [
    {
     "data": {
      "text/plain": [
       "array([[0, 0, 1, ..., 1, 1, 0],\n",
       "       [0, 1, 0, ..., 1, 1, 0],\n",
       "       [1, 1, 0, ..., 1, 0, 0],\n",
       "       ...,\n",
       "       [0, 1, 1, ..., 1, 0, 0],\n",
       "       [1, 1, 0, ..., 1, 0, 1],\n",
       "       [1, 0, 1, ..., 1, 0, 0]])"
      ]
     },
     "execution_count": 6,
     "metadata": {},
     "output_type": "execute_result"
    }
   ],
   "source": [
    "X = np.where(X > 0, 1, 0)\n",
    "X"
   ]
  },
  {
   "cell_type": "markdown",
   "metadata": {},
   "source": [
    "**5. Создать numpy массив нулей размера NхM c границей из единиц, шириной K**"
   ]
  },
  {
   "cell_type": "code",
   "execution_count": 9,
   "metadata": {},
   "outputs": [],
   "source": [
    "N = 10\n",
    "M = 6\n",
    "K = 2"
   ]
  },
  {
   "cell_type": "code",
   "execution_count": 74,
   "metadata": {},
   "outputs": [
    {
     "data": {
      "text/plain": [
       "array([[1., 1., 1., 1., 1., 1., 1., 1., 1., 1., 1., 1., 1., 1.],\n",
       "       [1., 1., 1., 1., 1., 1., 1., 1., 1., 1., 1., 1., 1., 1.],\n",
       "       [1., 1., 0., 0., 0., 0., 0., 0., 0., 0., 0., 0., 1., 1.],\n",
       "       [1., 1., 0., 0., 0., 0., 0., 0., 0., 0., 0., 0., 1., 1.],\n",
       "       [1., 1., 0., 0., 0., 0., 0., 0., 0., 0., 0., 0., 1., 1.],\n",
       "       [1., 1., 0., 0., 0., 0., 0., 0., 0., 0., 0., 0., 1., 1.],\n",
       "       [1., 1., 0., 0., 0., 0., 0., 0., 0., 0., 0., 0., 1., 1.],\n",
       "       [1., 1., 0., 0., 0., 0., 0., 0., 0., 0., 0., 0., 1., 1.],\n",
       "       [1., 1., 1., 1., 1., 1., 1., 1., 1., 1., 1., 1., 1., 1.],\n",
       "       [1., 1., 1., 1., 1., 1., 1., 1., 1., 1., 1., 1., 1., 1.]])"
      ]
     },
     "execution_count": 74,
     "metadata": {},
     "output_type": "execute_result"
    }
   ],
   "source": [
    "a = np.zeros((N, M))\n",
    "a1 = np.ones((N, K))\n",
    "\n",
    "a = np.concatenate((a, a1), axis=1)\n",
    "a = np.concatenate((a1, a), axis=1)\n",
    "\n",
    "a = a.T\n",
    "\n",
    "a = np.concatenate((a, a1), axis=1)\n",
    "a = np.concatenate((a1, a), axis=1)\n",
    "a"
   ]
  },
  {
   "cell_type": "markdown",
   "metadata": {},
   "source": [
    "**6. Вывести все name и среднее число заказов типа 2 по месяцам, для которых общая сумма заказов за месяц, в которых число заказов типа 1 больше числа заказов типа 2, превышает среднюю сумму заказов по всем месяцам.**  \n",
    "Дополнительно: не использовать присваивание"
   ]
  },
  {
   "cell_type": "code",
   "execution_count": 75,
   "metadata": {},
   "outputs": [
    {
     "data": {
      "text/html": [
       "<div>\n",
       "<style scoped>\n",
       "    .dataframe tbody tr th:only-of-type {\n",
       "        vertical-align: middle;\n",
       "    }\n",
       "\n",
       "    .dataframe tbody tr th {\n",
       "        vertical-align: top;\n",
       "    }\n",
       "\n",
       "    .dataframe thead th {\n",
       "        text-align: right;\n",
       "    }\n",
       "</style>\n",
       "<table border=\"1\" class=\"dataframe\">\n",
       "  <thead>\n",
       "    <tr style=\"text-align: right;\">\n",
       "      <th></th>\n",
       "      <th>name</th>\n",
       "      <th>date</th>\n",
       "      <th>order_type_1</th>\n",
       "      <th>order_type_2</th>\n",
       "    </tr>\n",
       "  </thead>\n",
       "  <tbody>\n",
       "    <tr>\n",
       "      <th>0</th>\n",
       "      <td>1</td>\n",
       "      <td>2019-01-01 00:00:00.000000000</td>\n",
       "      <td>9.0</td>\n",
       "      <td>61.0</td>\n",
       "    </tr>\n",
       "    <tr>\n",
       "      <th>1</th>\n",
       "      <td>6</td>\n",
       "      <td>2019-01-01 08:46:07.567567567</td>\n",
       "      <td>47.0</td>\n",
       "      <td>NaN</td>\n",
       "    </tr>\n",
       "    <tr>\n",
       "      <th>2</th>\n",
       "      <td>6</td>\n",
       "      <td>2019-01-01 17:32:15.135135135</td>\n",
       "      <td>54.0</td>\n",
       "      <td>NaN</td>\n",
       "    </tr>\n",
       "    <tr>\n",
       "      <th>3</th>\n",
       "      <td>9</td>\n",
       "      <td>2019-01-02 02:18:22.702702702</td>\n",
       "      <td>83.0</td>\n",
       "      <td>NaN</td>\n",
       "    </tr>\n",
       "    <tr>\n",
       "      <th>4</th>\n",
       "      <td>0</td>\n",
       "      <td>2019-01-02 11:04:30.270270270</td>\n",
       "      <td>18.0</td>\n",
       "      <td>NaN</td>\n",
       "    </tr>\n",
       "  </tbody>\n",
       "</table>\n",
       "</div>"
      ],
      "text/plain": [
       "   name                          date  order_type_1  order_type_2\n",
       "0     1 2019-01-01 00:00:00.000000000           9.0          61.0\n",
       "1     6 2019-01-01 08:46:07.567567567          47.0           NaN\n",
       "2     6 2019-01-01 17:32:15.135135135          54.0           NaN\n",
       "3     9 2019-01-02 02:18:22.702702702          83.0           NaN\n",
       "4     0 2019-01-02 11:04:30.270270270          18.0           NaN"
      ]
     },
     "execution_count": 75,
     "metadata": {},
     "output_type": "execute_result"
    }
   ],
   "source": [
    "# не менять\n",
    "np.random.seed(17)\n",
    "data = pd.DataFrame({'name': np.random.randint(0, 10, size=1000),\n",
    "                     'date': pd.date_range('2019-01-01', '2020-01-01', periods=1000),\n",
    "                     'order_type_1': np.random.randint(0, 100, size=1000),\n",
    "                     'order_type_2': np.random.randint(0, 100, size=1000)})\n",
    "data.loc[data['order_type_1'] % 5 == 0, 'order_type_1'] = np.nan\n",
    "data.loc[data['order_type_2'] % 3 == 0, 'order_type_2'] = np.nan\n",
    "data.head()\n",
    "\n",
    "# order_type - сумма заказа типа 1 и типа 2 на определенную дату. NaN если заказа не было"
   ]
  },
  {
   "cell_type": "code",
   "execution_count": 245,
   "metadata": {},
   "outputs": [
    {
     "data": {
      "text/html": [
       "<div>\n",
       "<style scoped>\n",
       "    .dataframe tbody tr th:only-of-type {\n",
       "        vertical-align: middle;\n",
       "    }\n",
       "\n",
       "    .dataframe tbody tr th {\n",
       "        vertical-align: top;\n",
       "    }\n",
       "\n",
       "    .dataframe thead tr th {\n",
       "        text-align: left;\n",
       "    }\n",
       "\n",
       "    .dataframe thead tr:last-of-type th {\n",
       "        text-align: right;\n",
       "    }\n",
       "</style>\n",
       "<table border=\"1\" class=\"dataframe\">\n",
       "  <thead>\n",
       "    <tr>\n",
       "      <th></th>\n",
       "      <th></th>\n",
       "      <th colspan=\"3\" halign=\"left\">order_type_1</th>\n",
       "      <th colspan=\"3\" halign=\"left\">order_type_2</th>\n",
       "    </tr>\n",
       "    <tr>\n",
       "      <th></th>\n",
       "      <th></th>\n",
       "      <th>mean</th>\n",
       "      <th>sum</th>\n",
       "      <th>count</th>\n",
       "      <th>mean</th>\n",
       "      <th>sum</th>\n",
       "      <th>count</th>\n",
       "    </tr>\n",
       "    <tr>\n",
       "      <th>date</th>\n",
       "      <th>name</th>\n",
       "      <th></th>\n",
       "      <th></th>\n",
       "      <th></th>\n",
       "      <th></th>\n",
       "      <th></th>\n",
       "      <th></th>\n",
       "    </tr>\n",
       "  </thead>\n",
       "  <tbody>\n",
       "    <tr>\n",
       "      <th rowspan=\"5\" valign=\"top\">2019-01-31</th>\n",
       "      <th>0</th>\n",
       "      <td>38.000000</td>\n",
       "      <td>152.0</td>\n",
       "      <td>4</td>\n",
       "      <td>29.000000</td>\n",
       "      <td>29.0</td>\n",
       "      <td>1</td>\n",
       "    </tr>\n",
       "    <tr>\n",
       "      <th>3</th>\n",
       "      <td>50.625000</td>\n",
       "      <td>405.0</td>\n",
       "      <td>8</td>\n",
       "      <td>66.333333</td>\n",
       "      <td>199.0</td>\n",
       "      <td>3</td>\n",
       "    </tr>\n",
       "    <tr>\n",
       "      <th>5</th>\n",
       "      <td>63.666667</td>\n",
       "      <td>191.0</td>\n",
       "      <td>3</td>\n",
       "      <td>16.500000</td>\n",
       "      <td>33.0</td>\n",
       "      <td>2</td>\n",
       "    </tr>\n",
       "    <tr>\n",
       "      <th>6</th>\n",
       "      <td>49.100000</td>\n",
       "      <td>491.0</td>\n",
       "      <td>10</td>\n",
       "      <td>34.000000</td>\n",
       "      <td>204.0</td>\n",
       "      <td>6</td>\n",
       "    </tr>\n",
       "    <tr>\n",
       "      <th>7</th>\n",
       "      <td>48.000000</td>\n",
       "      <td>240.0</td>\n",
       "      <td>5</td>\n",
       "      <td>65.000000</td>\n",
       "      <td>195.0</td>\n",
       "      <td>3</td>\n",
       "    </tr>\n",
       "    <tr>\n",
       "      <th>...</th>\n",
       "      <th>...</th>\n",
       "      <td>...</td>\n",
       "      <td>...</td>\n",
       "      <td>...</td>\n",
       "      <td>...</td>\n",
       "      <td>...</td>\n",
       "      <td>...</td>\n",
       "    </tr>\n",
       "    <tr>\n",
       "      <th rowspan=\"4\" valign=\"top\">2019-12-31</th>\n",
       "      <th>4</th>\n",
       "      <td>52.272727</td>\n",
       "      <td>575.0</td>\n",
       "      <td>11</td>\n",
       "      <td>66.166667</td>\n",
       "      <td>397.0</td>\n",
       "      <td>6</td>\n",
       "    </tr>\n",
       "    <tr>\n",
       "      <th>5</th>\n",
       "      <td>44.500000</td>\n",
       "      <td>267.0</td>\n",
       "      <td>6</td>\n",
       "      <td>50.600000</td>\n",
       "      <td>253.0</td>\n",
       "      <td>5</td>\n",
       "    </tr>\n",
       "    <tr>\n",
       "      <th>6</th>\n",
       "      <td>52.727273</td>\n",
       "      <td>580.0</td>\n",
       "      <td>11</td>\n",
       "      <td>47.142857</td>\n",
       "      <td>330.0</td>\n",
       "      <td>7</td>\n",
       "    </tr>\n",
       "    <tr>\n",
       "      <th>8</th>\n",
       "      <td>33.571429</td>\n",
       "      <td>235.0</td>\n",
       "      <td>7</td>\n",
       "      <td>40.000000</td>\n",
       "      <td>160.0</td>\n",
       "      <td>4</td>\n",
       "    </tr>\n",
       "    <tr>\n",
       "      <th>2020-01-31</th>\n",
       "      <th>9</th>\n",
       "      <td>91.000000</td>\n",
       "      <td>91.0</td>\n",
       "      <td>1</td>\n",
       "      <td>NaN</td>\n",
       "      <td>0.0</td>\n",
       "      <td>0</td>\n",
       "    </tr>\n",
       "  </tbody>\n",
       "</table>\n",
       "<p>85 rows × 6 columns</p>\n",
       "</div>"
      ],
      "text/plain": [
       "                order_type_1              order_type_2             \n",
       "                        mean    sum count         mean    sum count\n",
       "date       name                                                    \n",
       "2019-01-31 0       38.000000  152.0     4    29.000000   29.0     1\n",
       "           3       50.625000  405.0     8    66.333333  199.0     3\n",
       "           5       63.666667  191.0     3    16.500000   33.0     2\n",
       "           6       49.100000  491.0    10    34.000000  204.0     6\n",
       "           7       48.000000  240.0     5    65.000000  195.0     3\n",
       "...                      ...    ...   ...          ...    ...   ...\n",
       "2019-12-31 4       52.272727  575.0    11    66.166667  397.0     6\n",
       "           5       44.500000  267.0     6    50.600000  253.0     5\n",
       "           6       52.727273  580.0    11    47.142857  330.0     7\n",
       "           8       33.571429  235.0     7    40.000000  160.0     4\n",
       "2020-01-31 9       91.000000   91.0     1          NaN    0.0     0\n",
       "\n",
       "[85 rows x 6 columns]"
      ]
     },
     "execution_count": 245,
     "metadata": {},
     "output_type": "execute_result"
    }
   ],
   "source": [
    "\n",
    "agg = data.groupby(by=[pd.Grouper(key='date', freq='M'), 'name']).agg(\n",
    "    {\n",
    "        'order_type_1': ['mean', 'sum', 'count'],\n",
    "        'order_type_2': ['mean', 'sum', 'count']\n",
    "    }\n",
    ")\n",
    "agg = agg[agg['order_type_1']['count'] > agg['order_type_2']['count']]\n",
    "agg"
   ]
  },
  {
   "cell_type": "code",
   "execution_count": 240,
   "metadata": {},
   "outputs": [
    {
     "data": {
      "text/plain": [
       "573.4588235294118"
      ]
     },
     "execution_count": 240,
     "metadata": {},
     "output_type": "execute_result"
    }
   ],
   "source": [
    "aver = agg['order_type_1']['sum'] + agg['order_type_2']['sum']\n",
    "aver = aver.mean()\n",
    "aver"
   ]
  },
  {
   "cell_type": "code",
   "execution_count": 246,
   "metadata": {},
   "outputs": [
    {
     "data": {
      "text/plain": [
       "date        name\n",
       "2019-01-31  3       66.333333\n",
       "            6       34.000000\n",
       "            8       55.285714\n",
       "            9       37.800000\n",
       "2019-02-28  2       64.666667\n",
       "            5       50.600000\n",
       "            8       66.400000\n",
       "2019-03-31  0       39.500000\n",
       "            3       58.833333\n",
       "            4       62.333333\n",
       "            6       41.500000\n",
       "            8       47.000000\n",
       "2019-04-30  2       35.000000\n",
       "            5       61.166667\n",
       "            6       50.375000\n",
       "            7       42.857143\n",
       "2019-05-31  0       35.714286\n",
       "            2       24.800000\n",
       "            5       51.800000\n",
       "2019-06-30  1       39.571429\n",
       "            3       63.000000\n",
       "2019-07-31  0       38.100000\n",
       "            4       43.875000\n",
       "            5       58.750000\n",
       "2019-08-31  2       33.200000\n",
       "            3       59.000000\n",
       "            4       48.666667\n",
       "2019-09-30  0       56.600000\n",
       "            1       69.500000\n",
       "            2       66.750000\n",
       "            7       37.833333\n",
       "2019-10-31  2       51.000000\n",
       "            6       26.000000\n",
       "            8       59.000000\n",
       "            9       60.666667\n",
       "2019-11-30  1       29.400000\n",
       "            3       37.833333\n",
       "            4       43.000000\n",
       "            5       59.000000\n",
       "            9       56.800000\n",
       "2019-12-31  0       43.000000\n",
       "            3       39.000000\n",
       "            4       66.166667\n",
       "            6       47.142857\n",
       "Name: mean, dtype: float64"
      ]
     },
     "execution_count": 246,
     "metadata": {},
     "output_type": "execute_result"
    }
   ],
   "source": [
    "agg[agg['order_type_1']['sum'] + agg['order_type_2']['sum'] > aver]['order_type_2']['mean']"
   ]
  }
 ],
 "metadata": {
  "anaconda-cloud": {},
  "kernelspec": {
   "display_name": "Python 3",
   "language": "python",
   "name": "python3"
  },
  "language_info": {
   "codemirror_mode": {
    "name": "ipython",
    "version": 3
   },
   "file_extension": ".py",
   "mimetype": "text/x-python",
   "name": "python",
   "nbconvert_exporter": "python",
   "pygments_lexer": "ipython3",
   "version": "3.7.10"
  },
  "name": "seminar02_practice_pandas_titanic.ipynb"
 },
 "nbformat": 4,
 "nbformat_minor": 4
}
